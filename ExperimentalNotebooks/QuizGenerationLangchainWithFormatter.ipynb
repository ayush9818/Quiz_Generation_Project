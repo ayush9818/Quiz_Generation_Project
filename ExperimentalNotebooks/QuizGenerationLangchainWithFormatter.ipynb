{
 "cells": [
  {
   "cell_type": "code",
   "execution_count": 3,
   "id": "d9b37512-1588-4f3d-ac78-3905afa99e72",
   "metadata": {},
   "outputs": [],
   "source": [
    "from langchain_community.llms.huggingface_pipeline import HuggingFacePipeline\n",
    "from transformers import AutoModelForCausalLM, AutoTokenizer, pipeline, GenerationConfig\n",
    "import torch\n",
    "from langchain.prompts import PromptTemplate\n",
    "from langchain.chains import LLMChain\n",
    "\n",
    "from langchain.output_parsers import ResponseSchema\n",
    "from langchain.output_parsers import StructuredOutputParser, CommaSeparatedListOutputParser, PydanticOutputParser"
   ]
  },
  {
   "cell_type": "code",
   "execution_count": 4,
   "id": "ca9c57e7-1bae-4a78-a9da-d554dbb39c9e",
   "metadata": {},
   "outputs": [
    {
     "data": {
      "application/vnd.jupyter.widget-view+json": {
       "model_id": "91e1f9e768654da6aa12d1bd7a88d307",
       "version_major": 2,
       "version_minor": 0
      },
      "text/plain": [
       "Loading checkpoint shards:   0%|          | 0/3 [00:00<?, ?it/s]"
      ]
     },
     "metadata": {},
     "output_type": "display_data"
    }
   ],
   "source": [
    "model_id = \"mistralai/Mistral-7B-Instruct-v0.2\"\n",
    "tokenizer = AutoTokenizer.from_pretrained(model_id)\n",
    "model = AutoModelForCausalLM.from_pretrained(model_id, torch_dtype=torch.float16)"
   ]
  },
  {
   "cell_type": "code",
   "execution_count": 5,
   "id": "a9fe7de9-ebab-4966-9c1e-025ffceda33c",
   "metadata": {},
   "outputs": [],
   "source": [
    "pipe = pipeline(\"text-generation\", \n",
    "                model=model, \n",
    "                tokenizer=tokenizer,\n",
    "                device=0, \n",
    "                max_new_tokens=2000,\n",
    "                do_sample=True, \n",
    "                top_k=20, \n",
    "                top_p=0.7,\n",
    "                early_stopping=True,\n",
    "                num_beams=2\n",
    "               )\n",
    "hf = HuggingFacePipeline(pipeline=pipe)"
   ]
  },
  {
   "cell_type": "code",
   "execution_count": 6,
   "id": "fa090278-1056-43e7-ae31-66f4788eaf23",
   "metadata": {},
   "outputs": [
    {
     "data": {
      "text/plain": [
       "'\\ndef get_output_parser():\\n    missing_id = ResponseSchema(\\n        name=\"identifiers\",\\n        description=\"These are the missing identifiers.\",\\n        type=\\'List[string]\\'\\n    )\\n    missing_text = ResponseSchema(\\n         name=\"texts\",\\n         description=\"These are the missing texts.\",\\n         type=\\'List[string]\\'\\n    )\\n\\n    response_schemas = [missing_id, missing_text]\\n    output_parser = StructuredOutputParser.from_response_schemas(response_schemas)\\n    return output_parser\\n'"
      ]
     },
     "execution_count": 6,
     "metadata": {},
     "output_type": "execute_result"
    }
   ],
   "source": [
    "\"\"\"\n",
    "def get_output_parser():\n",
    "    missing_id = ResponseSchema(\n",
    "        name=\"identifiers\",\n",
    "        description=\"These are the missing identifiers.\",\n",
    "        type='List[string]'\n",
    "    )\n",
    "    missing_text = ResponseSchema(\n",
    "         name=\"texts\",\n",
    "         description=\"These are the missing texts.\",\n",
    "         type='List[string]'\n",
    "    )\n",
    "\n",
    "    response_schemas = [missing_id, missing_text]\n",
    "    output_parser = StructuredOutputParser.from_response_schemas(response_schemas)\n",
    "    return output_parser\n",
    "\"\"\""
   ]
  },
  {
   "cell_type": "markdown",
   "id": "63620ace-0eb9-41a2-9216-58f06f069a4c",
   "metadata": {},
   "source": [
    "https://stackoverflow.com/questions/78020395/how-to-specify-nested-json-using-langchain"
   ]
  },
  {
   "cell_type": "code",
   "execution_count": 16,
   "id": "3fcf1807-2a08-4d07-b8b6-08b122f6e005",
   "metadata": {},
   "outputs": [],
   "source": [
    "question_schema = ResponseSchema(name='Question', description=\"Question Generated on the given topic\")\n",
    "choice1_schema = ResponseSchema(name='Choice1', description='Choice 1 for the given question')\n",
    "choice2_schema = ResponseSchema(name='Choice2', description='Choice 2 for the given question')\n",
    "choice3_schema = ResponseSchema(name='Choice3', description='Choice 3 for the given question')\n",
    "choice4_schema = ResponseSchema(name='Choice4', description='Choice 4 for the given question')\n",
    "answer_schema = ResponseSchema(name='Answer', description='One of the selected choices out of 4 choices given as the answer. Eg Choice1')\n",
    "explanation_schema = ResponseSchema(name='Explanation', description = 'Explanation why a particular choice is selected as the answer')\n",
    "\n",
    "response_schemas = [question_schema, \n",
    "                    choice1_schema,\n",
    "                    choice2_schema,\n",
    "                    choice3_schema,\n",
    "                    choice4_schema,\n",
    "                    answer_schema,\n",
    "                    explanation_schema\n",
    "                   ]"
   ]
  },
  {
   "cell_type": "code",
   "execution_count": 32,
   "id": "2c0ee826-bb48-41bb-9e30-d16b4511aa7c",
   "metadata": {},
   "outputs": [],
   "source": [
    "# quiz_format = [\n",
    "#     {\n",
    "#         \"Question\" : \"Question Generated on the given topic\",\n",
    "#         \"Choice 1\" : \"Choice 1 for the given question.\", \n",
    "#         \"Choice 2\" : \"Choice 2 for the given question\",\n",
    "#         \"Choice 3\" : \"Choice 3 for the given question\",\n",
    "#         \"Choice 4\" : \"Choice 4 for the given question\",\n",
    "#         \"Answer\" : \"One of the choices among 4 choices which is best suited as the answer\",\n",
    "#         \"Explanation\" : \"Brief exaplantion of why the selected choice is the correct answer\"\n",
    "#     }, \n",
    "# ]"
   ]
  },
  {
   "cell_type": "code",
   "execution_count": 33,
   "id": "f7b42a85-e07d-4d08-b465-0398e8512d4b",
   "metadata": {},
   "outputs": [],
   "source": [
    "# quiz_schema = ResponseSchema(name=\"Quiz\",\n",
    "#                              description=f\"\"\"{quiz_format}\"\"\")\n",
    "\n",
    "# quiz_parser = StructuredOutputParser.from_response_schemas([quiz_schema])"
   ]
  },
  {
   "cell_type": "code",
   "execution_count": 17,
   "id": "789a9a19-f930-47fe-aa3b-b896f5e2ecae",
   "metadata": {},
   "outputs": [
    {
     "data": {
      "text/plain": [
       "StructuredOutputParser(response_schemas=[ResponseSchema(name='Question', description='Question Generated on the given topic', type='string'), ResponseSchema(name='Choice1', description='Choice 1 for the given question', type='string'), ResponseSchema(name='Choice2', description='Choice 2 for the given question', type='string'), ResponseSchema(name='Choice3', description='Choice 3 for the given question', type='string'), ResponseSchema(name='Choice4', description='Choice 4 for the given question', type='string'), ResponseSchema(name='Answer', description='One of the selected choices out of 4 choices given as the answer. Eg Choice1', type='string'), ResponseSchema(name='Explanation', description='Explanation why a particular choice is selected as the answer', type='string')])"
      ]
     },
     "execution_count": 17,
     "metadata": {},
     "output_type": "execute_result"
    }
   ],
   "source": [
    "output_parser = StructuredOutputParser.from_response_schemas(response_schemas)\n",
    "output_parser"
   ]
  },
  {
   "cell_type": "code",
   "execution_count": 18,
   "id": "ac465955-0c35-46b4-a223-8fc6c2cc3fef",
   "metadata": {},
   "outputs": [
    {
     "name": "stdout",
     "output_type": "stream",
     "text": [
      "The output should be a markdown code snippet formatted in the following schema, including the leading and trailing \"```json\" and \"```\":\n",
      "\n",
      "```json\n",
      "{\n",
      "\t\"Question\": string  // Question Generated on the given topic\n",
      "\t\"Choice1\": string  // Choice 1 for the given question\n",
      "\t\"Choice2\": string  // Choice 2 for the given question\n",
      "\t\"Choice3\": string  // Choice 3 for the given question\n",
      "\t\"Choice4\": string  // Choice 4 for the given question\n",
      "\t\"Answer\": string  // One of the selected choices out of 4 choices given as the answer. Eg Choice1\n",
      "\t\"Explanation\": string  // Explanation why a particular choice is selected as the answer\n",
      "}\n",
      "```\n"
     ]
    }
   ],
   "source": [
    "format_instructions = output_parser.get_format_instructions()\n",
    "print(format_instructions)\n",
    "\n",
    "# format_instructions = quiz_parser.get_format_instructions()\n",
    "# print(format_instructions)"
   ]
  },
  {
   "cell_type": "code",
   "execution_count": 10,
   "id": "19f1c21c-720d-4a59-b436-20c59b4b2c04",
   "metadata": {},
   "outputs": [],
   "source": [
    "# quiz_schema = ResponseSchema(name='Questions', \n",
    "#                              description=\"\")"
   ]
  },
  {
   "cell_type": "code",
   "execution_count": 32,
   "id": "741ed982-42f1-4a62-aa09-dc8586f1cecc",
   "metadata": {},
   "outputs": [
    {
     "name": "stderr",
     "output_type": "stream",
     "text": [
      "Setting `pad_token_id` to `eos_token_id`:2 for open-end generation.\n"
     ]
    },
    {
     "name": "stdout",
     "output_type": "stream",
     "text": [
      "{'Question': 'Which event marked the beginning of the Mughal Empire in India?', 'Choice1': 'The Battle of Panipat (1526)', 'Choice2': 'The Battle of Haldighati (1576)', 'Choice3': 'The Battle of Plassey (1757)', 'Choice4': 'The Battle of Buxar (1764)', 'Answer': 'Choice1', 'Explanation': 'The Battle of Panipat in 1526 marked the beginning of the Mughal Empire in India when Babur defeated Ibrahim Lodhi.'}\n"
     ]
    }
   ],
   "source": [
    "# Define the prompt template with placeholders for difficulty and subject\n",
    "# The questions should be mathematical and statistical as well.\n",
    "# Quiz with {num_questions}\n",
    "template = \"\"\"\n",
    "Generate a {difficulty} MCQ type question for graduate students focused on the topic of {subject}. \n",
    "The question should present a significant challenge, aligning with master's level coursework, and should ideally incorporate real-world applications or data to contextualize the mathematical or statistical concepts involved. \n",
    "Ensure the question demand a deep understanding and application of theoretical principles, possibly involving multiple steps or the integration of several concepts.\n",
    "Ensure that Question is strictly multiple choice question. \n",
    "The answer should definitely be one of the Choices.\n",
    "\n",
    "{format_instructions}\n",
    "\"\"\"\n",
    "\n",
    "context = generated_quiz\n",
    "# Create a PromptTemplate instance from the template\n",
    "prompt_template = PromptTemplate.from_template(template)\n",
    "\n",
    "# Example usage of the prompt template to generate a question\n",
    "difficulty = \"easy\"  # You can vary this between \"easy\", \"medium\", \"hard\", etc.\n",
    "subject = \"History of India\"\n",
    "num_questions = 4\n",
    "\n",
    "chain = prompt_template | hf | output_parser\n",
    "# Use the prompt template with Langchain to generate the quiz\n",
    "# Assuming you have a Langchain pipeline or chain set up as `langchain_pipeline`\n",
    "generated_quiz = chain.invoke({\n",
    "   # \"num_questions\" : num_questions,\n",
    "    \"difficulty\": difficulty,\n",
    "    \"subject\": subject,\n",
    "    \"format_instructions\" : format_instructions\n",
    "})\n",
    "\n",
    "# Print the generated quiz in JSON format\n",
    "print(generated_quiz)"
   ]
  },
  {
   "cell_type": "code",
   "execution_count": 31,
   "id": "5e569070-0e84-42b0-9b6e-b0deaf56ce99",
   "metadata": {},
   "outputs": [
    {
     "data": {
      "text/plain": [
       "{'Question': 'Which dynasty is credited with the establishment of the Delhi Sultanate in India?',\n",
       " 'Choice1': 'Maurya Dynasty',\n",
       " 'Choice2': 'Gupta Dynasty',\n",
       " 'Choice3': 'Rashtrakuta Dynasty',\n",
       " 'Choice4': 'Sultanate of Delhi',\n",
       " 'Answer': 'Choice3: Rashtrakuta Dynasty',\n",
       " 'Explanation': \"The Delhi Sultanate was established by Qutb-ud-din Aibak in 1206 AD, after the defeat of Prithviraj Chauhan in the Second Battle of Tarain. However, the Rashtrakuta Dynasty ruled over the Deccan region of India from 753 to 1274 AD. This question tests the student's knowledge of Indian history and their ability to distinguish between different dynasties and time periods.\"}"
      ]
     },
     "execution_count": 31,
     "metadata": {},
     "output_type": "execute_result"
    }
   ],
   "source": [
    "generated_quiz"
   ]
  },
  {
   "cell_type": "code",
   "execution_count": 26,
   "id": "099fc6e2-b259-4690-9b91-9d74577054c4",
   "metadata": {},
   "outputs": [
    {
     "data": {
      "text/plain": [
       "{'Question': 'Given a dataset of 1000 customer records, each containing 5 features (age, gender, income, education, and occupation), apply clustering analysis to segment the customers into meaningful groups. Which clustering algorithm would you recommend and why?',\n",
       " 'Choice1': 'DBSCAN with a radius of 2.5 and a minimum number of points of 5',\n",
       " 'Choice2': 'K-Means with an optimal number of clusters determined using the Elbow method',\n",
       " 'Choice3': \"Hierarchical clustering using Ward's method\",\n",
       " 'Choice4': 'Fuzzy C-Means clustering with a membership degree of 0.7',\n",
       " 'Answer': 'Choice2: K-Means with an optimal number of clusters determined using the Elbow method',\n",
       " 'Explanation': 'The K-Means algorithm is a popular choice for clustering when the number of clusters is known beforehand. The Elbow method is used to determine the optimal number of clusters based on the WCSS (Within Clusters Sum of Squared Differences). This method helps to avoid the subjective selection of the number of clusters and ensures that the clusters are well-separated and compact.'}"
      ]
     },
     "execution_count": 26,
     "metadata": {},
     "output_type": "execute_result"
    }
   ],
   "source": [
    "generated_quiz"
   ]
  },
  {
   "cell_type": "code",
   "execution_count": 40,
   "id": "2047bff0-acf7-4fa3-9b87-6a46e45f3f07",
   "metadata": {},
   "outputs": [],
   "source": [
    "def format_output(llm_output, output_parser):\n",
    "    output_response = []\n",
    "    pattern = r\"```json\\s+(.+?)\\s+```\"\n",
    "\n",
    "    # Find all matches\n",
    "    matches = re.findall(pattern, generated_quiz, re.DOTALL)\n",
    "    \n",
    "    # Print matches\n",
    "    for match in matches:\n",
    "        output_response.append(output_parser.parse(match))\n",
    "\n",
    "    return output_response"
   ]
  },
  {
   "cell_type": "code",
   "execution_count": 41,
   "id": "90c2fee2-890a-424e-b8d3-48b5cd4fd603",
   "metadata": {},
   "outputs": [],
   "source": [
    "final_quiz = format_output(llm_output=generated_quiz, output_parser=output_parser)"
   ]
  },
  {
   "cell_type": "code",
   "execution_count": 54,
   "id": "77305419-a727-423e-9849-a83b6c0c2b1b",
   "metadata": {},
   "outputs": [
    {
     "name": "stdout",
     "output_type": "stream",
     "text": [
      "2\n"
     ]
    }
   ],
   "source": [
    "ans = final_quiz[1].get('Answer')\n",
    "choice_list = [ final_quiz[1].get(f'Choice{idx}') for idx in range(1,5)]\n",
    "for idx, choice in enumerate(choice_list):\n",
    "    if choice == ans:\n",
    "        print(idx+1)"
   ]
  },
  {
   "cell_type": "code",
   "execution_count": 50,
   "id": "a2e78d5a-08b4-4c74-b5c9-c15ad7124a55",
   "metadata": {},
   "outputs": [
    {
     "data": {
      "text/plain": [
       "{'Question': 'Given a dataset of 1000 points in a 2-dimensional space, which clustering algorithm would you recommend for finding 10 clusters with a high degree of accuracy?',\n",
       " 'Choice1': 'DBSCAN with an epsilon value of 0.5 and a minimum number of points in a cluster of 5',\n",
       " 'Choice2': 'K-Means with an initial number of clusters of 10 and a maximum number of iterations of 100',\n",
       " 'Choice3': \"Hierarchical Clustering using Ward's method with a linkage distance of 1.5\",\n",
       " 'Choice4': 'Spectral Clustering with the normalized Laplacian matrix and a resolution parameter of 0.1',\n",
       " 'Answer': 'Spectral Clustering with the normalized Laplacian matrix and a resolution parameter of 0.1',\n",
       " 'Explanation': 'Spectral Clustering is known to be effective in finding clusters of arbitrary shapes and sizes. The normalized Laplacian matrix helps to preserve the local structure of the data, and a suitable resolution parameter can be used to determine the number of clusters.'}"
      ]
     },
     "execution_count": 50,
     "metadata": {},
     "output_type": "execute_result"
    }
   ],
   "source": [
    "final_quiz[0]"
   ]
  },
  {
   "cell_type": "code",
   "execution_count": 1,
   "id": "887c67aa-77d6-4891-be72-b3568fcc7099",
   "metadata": {},
   "outputs": [],
   "source": [
    "x = [{'Question': \"Given a product with a monthly churn rate of 5% and a monthly acquisition rate of 10%, what is the product's net growth rate?\", 'Choice1': '1.5%', 'Choice2': '3.5%', 'Choice3': '5%', 'Choice4': '10%', 'Answer': 'Choice2: 3.5%', 'Explanation': 'Net growth rate is calculated by subtracting the churn rate from the acquisition rate: 10% - 5% = 3.5%.'}, {'Question': \"Assuming a product has a monthly revenue of $10,000 and a monthly COGS (Cost of Goods Sold) of $5,000, what is the product's monthly gross profit?\", 'Choice1': '2,500', 'Choice2': '5,000', 'Choice3': '7,500', 'Choice4': '10,000', 'Answer': 'Choice3: 7,500', 'Explanation': 'Gross profit is calculated by subtracting COGS from revenue: $10,000 - $5,000 = $7,500.'}, {'Question': \"Given a product with a monthly revenue of $20,000, a monthly COGS of $10,000, and a monthly operating expense of $5,000, what is the product's monthly EBITDA (Earnings Before Interest, Taxes, Depreciation, and Amortization)?\", 'Choice1': '5,000', 'Choice2': '7,500', 'Choice3': '10,000', 'Choice4': '15,000', 'Answer': 'Choice2: 7,500', 'Explanation': 'EBITDA is calculated by subtracting COGS and operating expenses from revenue: $20,000 - $10,000 - $5,000 = $7,500.'}, {'Question': \"Assuming a product's monthly revenue follows a normal distribution with a mean of $15,000 and a standard deviation of $3,000, what is the probability that the product's monthly revenue will be less than $12,000?\", 'Choice1': '0.0135', 'Choice2': '0.05', 'Choice3': '0.1587', 'Choice4': '0.6827', 'Answer': 'Choice2: 0.05', 'Explanation': \"To find the probability that the product's monthly revenue will be less than $12,000, we need to calculate the z-score and then use a standard normal distribution table or calculator. The z-score is calculated as (X - μ) / σ, where X is the revenue we're interested in, μ is the mean, and σ is the standard deviation. In this case, X = $12,000, μ = $15,000, and σ = $3,000. The z-score is (12,000 - 15,000) / 3,000 = -0.5. Using a standard normal distribution table or calculator, we find that the probability of a z-score of -0.5 is approximately 0.05, or 5%.\"}, {'Question': \"Given a product with a monthly revenue of $25,000, a monthly COGS of $12,000, a monthly operating expense of $8,000, and a monthly interest expense of $3,000, what is the product's monthly net income?\", 'Choice1': '1,500', 'Choice2': '3,500', 'Choice3': '5,000', 'Choice4': '7,500', 'Answer': 'Choice2: 3,500', 'Explanation': 'Net income is calculated by subtracting COGS, operating expenses, and interest expenses from revenue: $25,000 - $12,000 - $8,000 - $3,000 = $3,500.'}]"
   ]
  },
  {
   "cell_type": "code",
   "execution_count": 2,
   "id": "a208d71d-371f-408b-a540-a935325aabb1",
   "metadata": {},
   "outputs": [
    {
     "name": "stdout",
     "output_type": "stream",
     "text": [
      "{'Question': \"Given a product with a monthly churn rate of 5% and a monthly acquisition rate of 10%, what is the product's net growth rate?\", 'Choice1': '1.5%', 'Choice2': '3.5%', 'Choice3': '5%', 'Choice4': '10%', 'Answer': 'Choice2: 3.5%', 'Explanation': 'Net growth rate is calculated by subtracting the churn rate from the acquisition rate: 10% - 5% = 3.5%.'}\n",
      "{'Question': \"Assuming a product has a monthly revenue of $10,000 and a monthly COGS (Cost of Goods Sold) of $5,000, what is the product's monthly gross profit?\", 'Choice1': '2,500', 'Choice2': '5,000', 'Choice3': '7,500', 'Choice4': '10,000', 'Answer': 'Choice3: 7,500', 'Explanation': 'Gross profit is calculated by subtracting COGS from revenue: $10,000 - $5,000 = $7,500.'}\n",
      "{'Question': \"Given a product with a monthly revenue of $20,000, a monthly COGS of $10,000, and a monthly operating expense of $5,000, what is the product's monthly EBITDA (Earnings Before Interest, Taxes, Depreciation, and Amortization)?\", 'Choice1': '5,000', 'Choice2': '7,500', 'Choice3': '10,000', 'Choice4': '15,000', 'Answer': 'Choice2: 7,500', 'Explanation': 'EBITDA is calculated by subtracting COGS and operating expenses from revenue: $20,000 - $10,000 - $5,000 = $7,500.'}\n",
      "{'Question': \"Assuming a product's monthly revenue follows a normal distribution with a mean of $15,000 and a standard deviation of $3,000, what is the probability that the product's monthly revenue will be less than $12,000?\", 'Choice1': '0.0135', 'Choice2': '0.05', 'Choice3': '0.1587', 'Choice4': '0.6827', 'Answer': 'Choice2: 0.05', 'Explanation': \"To find the probability that the product's monthly revenue will be less than $12,000, we need to calculate the z-score and then use a standard normal distribution table or calculator. The z-score is calculated as (X - μ) / σ, where X is the revenue we're interested in, μ is the mean, and σ is the standard deviation. In this case, X = $12,000, μ = $15,000, and σ = $3,000. The z-score is (12,000 - 15,000) / 3,000 = -0.5. Using a standard normal distribution table or calculator, we find that the probability of a z-score of -0.5 is approximately 0.05, or 5%.\"}\n",
      "{'Question': \"Given a product with a monthly revenue of $25,000, a monthly COGS of $12,000, a monthly operating expense of $8,000, and a monthly interest expense of $3,000, what is the product's monthly net income?\", 'Choice1': '1,500', 'Choice2': '3,500', 'Choice3': '5,000', 'Choice4': '7,500', 'Answer': 'Choice2: 3,500', 'Explanation': 'Net income is calculated by subtracting COGS, operating expenses, and interest expenses from revenue: $25,000 - $12,000 - $8,000 - $3,000 = $3,500.'}\n"
     ]
    }
   ],
   "source": [
    "for i in x:\n",
    "    print(i)"
   ]
  },
  {
   "cell_type": "code",
   "execution_count": null,
   "id": "3622bbd4-8330-4981-bf7f-5af82de2f7c9",
   "metadata": {},
   "outputs": [],
   "source": []
  }
 ],
 "metadata": {
  "kernelspec": {
   "display_name": "Python [conda env:miniconda3-OpenShape]",
   "language": "python",
   "name": "conda-env-miniconda3-OpenShape-py"
  },
  "language_info": {
   "codemirror_mode": {
    "name": "ipython",
    "version": 3
   },
   "file_extension": ".py",
   "mimetype": "text/x-python",
   "name": "python",
   "nbconvert_exporter": "python",
   "pygments_lexer": "ipython3",
   "version": "3.9.18"
  }
 },
 "nbformat": 4,
 "nbformat_minor": 5
}
