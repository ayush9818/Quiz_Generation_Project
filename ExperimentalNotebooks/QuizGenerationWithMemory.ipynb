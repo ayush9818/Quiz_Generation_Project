{
 "cells": [
  {
   "cell_type": "code",
   "execution_count": 1,
   "id": "85aad879-3ce3-4cfe-8888-1cac03a45fe8",
   "metadata": {},
   "outputs": [],
   "source": [
    "from langchain_community.llms.huggingface_pipeline import HuggingFacePipeline\n",
    "from transformers import AutoModelForCausalLM, AutoTokenizer, pipeline, GenerationConfig\n",
    "import torch\n",
    "from langchain.prompts import PromptTemplate\n",
    "from langchain.chains import LLMChain\n",
    "from langchain.memory import ConversationBufferMemory,ConversationSummaryMemory, ConversationBufferWindowMemory\n",
    "from langchain.output_parsers import ResponseSchema\n",
    "from langchain.output_parsers import StructuredOutputParser, CommaSeparatedListOutputParser"
   ]
  },
  {
   "cell_type": "code",
   "execution_count": 2,
   "id": "6feac55f-be53-4e39-83e6-4f8b0536c4bf",
   "metadata": {},
   "outputs": [
    {
     "data": {
      "application/vnd.jupyter.widget-view+json": {
       "model_id": "e78d5a29e91040c88040e484bf3986e6",
       "version_major": 2,
       "version_minor": 0
      },
      "text/plain": [
       "Loading checkpoint shards:   0%|          | 0/3 [00:00<?, ?it/s]"
      ]
     },
     "metadata": {},
     "output_type": "display_data"
    }
   ],
   "source": [
    "model_id = \"mistralai/Mistral-7B-Instruct-v0.2\"\n",
    "tokenizer = AutoTokenizer.from_pretrained(model_id)\n",
    "model = AutoModelForCausalLM.from_pretrained(model_id, torch_dtype=torch.float16)"
   ]
  },
  {
   "cell_type": "code",
   "execution_count": 4,
   "id": "0f4c9732-1f03-446d-a78c-abb62b6cf7bd",
   "metadata": {},
   "outputs": [],
   "source": [
    "pipe = pipeline(\"text-generation\", \n",
    "                model=model, \n",
    "                tokenizer=tokenizer,\n",
    "                device=0, \n",
    "                max_new_tokens=2000,\n",
    "                do_sample=True, \n",
    "                top_k=20, \n",
    "                top_p=0.7,\n",
    "                early_stopping=True,\n",
    "                num_beams=2\n",
    "               )\n",
    "hf = HuggingFacePipeline(pipeline=pipe)"
   ]
  },
  {
   "cell_type": "code",
   "execution_count": 5,
   "id": "53157255-83cc-4d8c-822c-4112a5ec8ca2",
   "metadata": {},
   "outputs": [],
   "source": [
    "question_schema = ResponseSchema(name='Question', description=\"Question Generated on the given topic\")\n",
    "choice1_schema = ResponseSchema(name='Choice1', description='Choice 1 for the given question')\n",
    "choice2_schema = ResponseSchema(name='Choice2', description='Choice 2 for the given question')\n",
    "choice3_schema = ResponseSchema(name='Choice3', description='Choice 3 for the given question')\n",
    "choice4_schema = ResponseSchema(name='Choice4', description='Choice 4 for the given question')\n",
    "answer_schema = ResponseSchema(name='Answer', description='One of the selected choices out of 4 choices given as the answer. Eg Choice1')\n",
    "explanation_schema = ResponseSchema(name='Explanation', description = 'Explanation why a particular choice is selected as the answer')\n",
    "\n",
    "response_schemas = [question_schema, \n",
    "                    choice1_schema,\n",
    "                    choice2_schema,\n",
    "                    choice3_schema,\n",
    "                    choice4_schema,\n",
    "                    answer_schema,\n",
    "                    explanation_schema\n",
    "                   ]"
   ]
  },
  {
   "cell_type": "code",
   "execution_count": 6,
   "id": "79b55595-f76d-40c3-86f8-5ce76b427f37",
   "metadata": {},
   "outputs": [],
   "source": [
    "output_parser = StructuredOutputParser.from_response_schemas(response_schemas)\n",
    "format_instructions = output_parser.get_format_instructions()\n",
    "# focused on the topic of {subject}\n",
    "#{chat_history}"
   ]
  },
  {
   "cell_type": "code",
   "execution_count": 183,
   "id": "10b1bd6b-1f48-4343-ab22-54b32c86cdd6",
   "metadata": {},
   "outputs": [],
   "source": [
    "# template=\"\"\"You are a KnowledgeStore tasked with generating a single MCQ type question for graduate students of a specified difficulty level focused on a particular subject. This question should present a significant challenge, incorporating real-world applications or data to contextualize mathematical or statistical concepts involved. It requires a deep understanding and application of theoretical principles, possibly involving multiple steps or the integration of several concepts.\n",
    "\n",
    "# Previously Generated Questions.\n",
    "# {chat_history}\n",
    "\n",
    "# Human:\n",
    "# It is crucial that this task results in exactly one multiple-choice question with four choices: Choice1, Choice2, Choice3, Choice4. The correct answer must be one of these choices. Despite any challenges in meeting all specified requirements, the generation of more than one question is not acceptable.\n",
    "# Ensure the question is of {difficulty} difficulty level, centered around {subject}.\n",
    "# Please generate a single question even if it is not possible to meet all the above criteria perfectly. The priority is to adhere to the format and quantity specified: one question, four choices.\n",
    "\n",
    "# {format_instructions}\n",
    "# \"\"\"\n"
   ]
  },
  {
   "cell_type": "code",
   "execution_count": 208,
   "id": "8cacffa7-4c1c-4827-9d21-24ad103e3c4f",
   "metadata": {},
   "outputs": [],
   "source": [
    "# template=\"\"\"You are a Quiz Master expert in generating a Single MCQ Question on a given subject and difficulty level.\n",
    "# Previously Generated Questions.\n",
    "# {chat_history}\n",
    "\n",
    "# Human: Please generate a single MCQ questions with the details mentioned below:\n",
    "# - Subject: {subject}\n",
    "# - Difficulty : {difficulty}\n",
    "# - Number of Choices: 4 [Choice 1, Choice2, Choice3, Choice4]\n",
    "# - The answer should be among the 4 choices only.\n",
    "# - Only a single MCQ Question is expected. More than 1 question is not acceptable.\n",
    "\n",
    "# {format_instructions}\n",
    "# \"\"\""
   ]
  },
  {
   "cell_type": "code",
   "execution_count": 238,
   "id": "ae383696-d0f2-4289-a11e-b93dbd550bfd",
   "metadata": {},
   "outputs": [],
   "source": [
    "# template = \"\"\"You are a KnowledgeStore which generates MCQ questions of desired difficulty on a given topic.\n",
    "# You can generate really good quality questions which are different from the questions generated previously.\n",
    "\n",
    "# Previously Generated Questions.\n",
    "# {chat_history}\n",
    "\n",
    "# Human: Generate a single MCQ type question for graduate students of {difficulty} difficulty level focussed on {subject}. \n",
    "# The question should present a significant challenge, and should ideally incorporate real-world applications or data to contextualize the mathematical or statistical concepts involved. \n",
    "# Ensure the question demand a deep understanding and application of theoretical principles, possibly involving multiple steps or the integration of several concepts.\n",
    "# Ensure that Question is strictly multiple choice question with exactly 4 choices. Choice1, Choice2, Choice3, Choice4. The answer should definitely be one of the Choices.\n",
    "# You can ignore other conditions but it is compulsory to be a single question.\n",
    "\n",
    "# {format_instructions}\n",
    "# \"\"\""
   ]
  },
  {
   "cell_type": "code",
   "execution_count": 335,
   "id": "cccf188f-1075-4f5f-8132-80b56b3f60b3",
   "metadata": {},
   "outputs": [],
   "source": [
    "template = \"\"\"You are a KnowledgeStore which generates MCQ questions of desired difficulty on a given topic.\n",
    "You can generate really good quality questions which are different from the questions generated previously.\n",
    "\n",
    "Previously Generated Questions.\n",
    "{chat_history}\n",
    "\n",
    "Human: Generate a single MCQ type question of {difficulty} difficulty level focussed on {subject}.\n",
    "The question should be totally different from previous generated quesions mentioned above.\n",
    "The question should present a significant challenge, and should ideally incorporate real-world applications or data to contextualize the mathematical or statistical concepts involved. \n",
    "Ensure the question demand a deep understanding and application of theoretical principles, possibly involving multiple steps or the integration of several concepts.\n",
    "Ensure that Question is strictly multiple choice question with exactly 4 choices. \n",
    "Choice1, Choice2, Choice3, Choice4. The answer should definitely be one of the Choices.\n",
    "It is essential to make sure you generate a single question even if you are not able to meet all the requirments.\n",
    "You can ignore other requirements if not met but it is compulsory to be a single MCQ question with 4 Choices.\n",
    "\n",
    "{format_instructions}\n",
    "Output:\n",
    "\"\"\"\n",
    "\n",
    "#\n",
    "prompt = PromptTemplate.from_template(template)\n",
    "prompt = PromptTemplate(\n",
    "    input_variables=[\"chat_history\", \n",
    "                     \"difficulty\",\n",
    "                     \"subject\",\n",
    "                     \"format_instructions\"], template=template\n",
    ")\n",
    "#memory = ConversationSummaryMemory(llm=hf, input_key='subject')\n",
    "#memory = ConversationBufferWindowMemory(k=5, memory_key=\"chat_history\", input_key='subject')\n",
    "#memory = ConversationBufferMemory(memory_key=\"chat_history\", input_key='subject')"
   ]
  },
  {
   "cell_type": "code",
   "execution_count": 380,
   "id": "fe50a746-381c-460a-ac8c-26e2f063402f",
   "metadata": {},
   "outputs": [
    {
     "name": "stdout",
     "output_type": "stream",
     "text": [
      "You are a KnowledgeStore which generates MCQ questions of desired difficulty on a given topic.\n",
      "You can generate really good quality questions which are different from the questions generated previously.\n",
      "\n",
      "Previously Generated Questions.\n",
      "{chat_history}\n",
      "\n",
      "Human: Generate a single MCQ type question of {difficulty} difficulty level focussed on {subject}.\n",
      "The question should be totally different from previous generated quesions mentioned above.\n",
      "The question should present a significant challenge, and should ideally incorporate real-world applications or data to contextualize the mathematical or statistical concepts involved. \n",
      "Ensure the question demand a deep understanding and application of theoretical principles, possibly involving multiple steps or the integration of several concepts.\n",
      "Ensure that Question is strictly multiple choice question with exactly 4 choices. \n",
      "Choice1, Choice2, Choice3, Choice4. The answer should definitely be one of the Choices.\n",
      "It is essential to make sure you generate a single question even if you are not able to meet all the requirments.\n",
      "You can ignore other requirements if not met but it is compulsory to be a single MCQ question with 4 Choices.\n",
      "\n",
      "{format_instructions}\n",
      "Output:\n",
      "\n"
     ]
    }
   ],
   "source": [
    "print(template)"
   ]
  },
  {
   "cell_type": "code",
   "execution_count": 311,
   "id": "e9751c00-db55-43b8-b15f-43df865fa65f",
   "metadata": {},
   "outputs": [],
   "source": [
    "#memory.load_memory_variables({})"
   ]
  },
  {
   "cell_type": "code",
   "execution_count": 336,
   "id": "2b47b1fa-563e-40a1-95fe-f296d2146a28",
   "metadata": {},
   "outputs": [],
   "source": [
    "llm_chain = LLMChain(\n",
    "    llm=hf,\n",
    "    prompt=prompt,\n",
    "    #memory=memory,\n",
    "    verbose=True\n",
    ")"
   ]
  },
  {
   "cell_type": "code",
   "execution_count": 337,
   "id": "cd9806ec-fa6b-41ec-ab6f-2affba773277",
   "metadata": {},
   "outputs": [],
   "source": [
    "chat_history = \"\""
   ]
  },
  {
   "cell_type": "code",
   "execution_count": 376,
   "id": "23745b21-e809-43f7-8dd8-9f5c785bc3ca",
   "metadata": {},
   "outputs": [
    {
     "name": "stderr",
     "output_type": "stream",
     "text": [
      "/home/aagarwal/miniconda3/envs/OpenShape/lib/python3.9/site-packages/transformers/pipelines/base.py:1157: UserWarning: You seem to be using the pipelines sequentially on GPU. In order to maximize efficiency please use a dataset\n",
      "  warnings.warn(\n",
      "Setting `pad_token_id` to `eos_token_id`:2 for open-end generation.\n"
     ]
    },
    {
     "name": "stdout",
     "output_type": "stream",
     "text": [
      "\n",
      "\n",
      "\u001b[1m> Entering new LLMChain chain...\u001b[0m\n",
      "Prompt after formatting:\n",
      "\u001b[32;1m\u001b[1;3mYou are a KnowledgeStore which generates MCQ questions of desired difficulty on a given topic.\n",
      "You can generate really good quality questions which are different from the questions generated previously.\n",
      "\n",
      "Previously Generated Questions.\n",
      "Which event marked the beginning of the American Revolution?\n",
      "Which of these U.S. Presidents was born in a log cabin?\n",
      "Which U.S. President signed the Emancipation Proclamation, freeing all slaves in Confederate territory?\n",
      "Which U.S. President was the first to be impeached by the House of Representatives?\n",
      "Which U.S. President is known for his 'New Deal' policies that helped the country recover from the Great Depression?\n",
      "Which U.S. President was the first to establish a national forest?\n",
      "Which U.S. President was the first to establish a national monument dedicated to peace?\n",
      "Which U.S. President was the first to establish a national park dedicated to a U.S. President?\n",
      "\n",
      "\n",
      "Human: Generate a single MCQ type question of easy difficulty level focussed on history of USA.\n",
      "The question should be totally different from previous generated quesions mentioned above.\n",
      "The question should present a significant challenge, and should ideally incorporate real-world applications or data to contextualize the mathematical or statistical concepts involved. \n",
      "Ensure the question demand a deep understanding and application of theoretical principles, possibly involving multiple steps or the integration of several concepts.\n",
      "Ensure that Question is strictly multiple choice question with exactly 4 choices. \n",
      "Choice1, Choice2, Choice3, Choice4. The answer should definitely be one of the Choices.\n",
      "It is essential to make sure you generate a single question even if you are not able to meet all the requirments.\n",
      "You can ignore other requirements if not met but it is compulsory to be a single MCQ question with 4 Choices.\n",
      "\n",
      "The output should be a markdown code snippet formatted in the following schema, including the leading and trailing \"```json\" and \"```\":\n",
      "\n",
      "```json\n",
      "{\n",
      "\t\"Question\": string  // Question Generated on the given topic\n",
      "\t\"Choice1\": string  // Choice 1 for the given question\n",
      "\t\"Choice2\": string  // Choice 2 for the given question\n",
      "\t\"Choice3\": string  // Choice 3 for the given question\n",
      "\t\"Choice4\": string  // Choice 4 for the given question\n",
      "\t\"Answer\": string  // One of the selected choices out of 4 choices given as the answer. Eg Choice1\n",
      "\t\"Explanation\": string  // Explanation why a particular choice is selected as the answer\n",
      "}\n",
      "```\n",
      "Output:\n",
      "\u001b[0m\n",
      "\n",
      "\u001b[1m> Finished chain.\u001b[0m\n"
     ]
    }
   ],
   "source": [
    "out = llm_chain.run({'chat_history' : chat_history,\n",
    "                    'difficulty' : 'easy',\n",
    "                     'subject' : 'history of USA',\n",
    "                     'format_instructions' : format_instructions\n",
    "                    })"
   ]
  },
  {
   "cell_type": "code",
   "execution_count": 377,
   "id": "b46582ff-2edc-4404-85be-5445e953b55f",
   "metadata": {},
   "outputs": [
    {
     "name": "stdout",
     "output_type": "stream",
     "text": [
      "```json\n",
      "{\n",
      "\t\"Question\": \"Which U.S. President was the first to establish a national holiday dedicated to labor?\",\n",
      "\t\"Choice1\": \"George Washington\",\n",
      "\t\"Choice2\": \"Thomas Jefferson\",\n",
      "\t\"Choice3\": \"Abraham Lincoln\",\n",
      "\t\"Choice4\": \"Franklin D. Roosevelt\",\n",
      "\t\"Answer\": \"Franklin D. Roosevelt\",\n",
      "\t\"Explanation\": \"Franklin D. Roosevelt established Labor Day as a national holiday in 1935.\"\n",
      "}\n",
      "```\n"
     ]
    }
   ],
   "source": [
    "print(out)"
   ]
  },
  {
   "cell_type": "code",
   "execution_count": 378,
   "id": "68c47518-6397-4a8c-81c7-c708b09b5187",
   "metadata": {},
   "outputs": [
    {
     "data": {
      "text/plain": [
       "'Which U.S. President was the first to establish a national holiday dedicated to labor?'"
      ]
     },
     "execution_count": 378,
     "metadata": {},
     "output_type": "execute_result"
    }
   ],
   "source": [
    "question = output_parser.parse(out).get('Question')\n",
    "question"
   ]
  },
  {
   "cell_type": "code",
   "execution_count": 379,
   "id": "e29534c4-58c9-4fc0-8508-c84170c2f584",
   "metadata": {},
   "outputs": [
    {
     "name": "stdout",
     "output_type": "stream",
     "text": [
      "Which event marked the beginning of the American Revolution?\n",
      "Which of these U.S. Presidents was born in a log cabin?\n",
      "Which U.S. President signed the Emancipation Proclamation, freeing all slaves in Confederate territory?\n",
      "Which U.S. President was the first to be impeached by the House of Representatives?\n",
      "Which U.S. President is known for his 'New Deal' policies that helped the country recover from the Great Depression?\n",
      "Which U.S. President was the first to establish a national forest?\n",
      "Which U.S. President was the first to establish a national monument dedicated to peace?\n",
      "Which U.S. President was the first to establish a national park dedicated to a U.S. President?\n",
      "Which U.S. President was the first to establish a national holiday dedicated to labor?\n",
      "\n"
     ]
    }
   ],
   "source": [
    "chat_history+=f\"{question}\\n\"\n",
    "print(chat_history)"
   ]
  },
  {
   "cell_type": "code",
   "execution_count": null,
   "id": "eca82c99-85a2-4b7b-a0e6-b47f8a975843",
   "metadata": {},
   "outputs": [],
   "source": []
  }
 ],
 "metadata": {
  "kernelspec": {
   "display_name": "Python [conda env:miniconda3-OpenShape]",
   "language": "python",
   "name": "conda-env-miniconda3-OpenShape-py"
  },
  "language_info": {
   "codemirror_mode": {
    "name": "ipython",
    "version": 3
   },
   "file_extension": ".py",
   "mimetype": "text/x-python",
   "name": "python",
   "nbconvert_exporter": "python",
   "pygments_lexer": "ipython3",
   "version": "3.9.18"
  }
 },
 "nbformat": 4,
 "nbformat_minor": 5
}
