{
 "cells": [
  {
   "cell_type": "code",
   "execution_count": 1,
   "id": "dd56439c-a739-4b8d-a18b-52aa283123dd",
   "metadata": {},
   "outputs": [],
   "source": [
    "from langchain_community.embeddings import HuggingFaceEmbeddings, HuggingFaceInstructEmbeddings, HuggingFaceBgeEmbeddings\n",
    "from langchain_community.vectorstores import Chroma"
   ]
  },
  {
   "cell_type": "code",
   "execution_count": 2,
   "id": "e8e9e964-f61e-49f5-b668-ef2716ac725b",
   "metadata": {},
   "outputs": [],
   "source": [
    "test_case = [\n",
    "    {\n",
    "        \"Choice1\":\"Apriori Algorithm with a minimum support of 0.5 and a minimum confidence of 0.7\",\n",
    "        \"Choice2\":\"Frequent Itemset Mining with a minimum support of 0.3 and a minimum confidence of 0.8\",\n",
    "        \"Choice3\":\"Eclat Algorithm with a minimum support of 0.4 and a minimum confidence of 0.6\",\n",
    "        \"Choice4\":\"MineSet Algorithm with a minimum support of 0.2 and a minimum confidence of 0.9\",\n",
    "        \"Answer\":\"Choice1\"\n",
    "    },\n",
    "    {\n",
    "        \"Choice1\":\"Step 1: Frequent Itemset Generation\",\n",
    "        \"Choice2\":\"Step 2: Association Rule Generation\",\n",
    "        \"Choice3\":\"Step 3: Candidate Generation\",\n",
    "        \"Choice4\":\"Step 4: Pruning\",\n",
    "        \"Answer\":\"Choice 1: Step 1: Frequent Itemset Generation\"\n",
    "    },\n",
    "    {\n",
    "        \"Choice1\":\"Frequent Itemset Tree\",\n",
    "        \"Choice2\":\"Frequent Itemset List\",\n",
    "        \"Choice3\":\"Association Rule Tree\",\n",
    "        \"Choice4\":\"Apriori Table\",\n",
    "        \"Answer\":\"Frequent Itemset List\"\n",
    "    },\n",
    "    {\n",
    "        \"Choice1\":\"New Product Development\",\n",
    "        \"Choice2\":\"Marketing and Sales\",\n",
    "        \"Choice3\":\"Design and Engineering\",\n",
    "        \"Choice4\":\"Operations and Production\",\n",
    "        \"Answer\":\"Choice4\"\n",
    "    }\n",
    "]"
   ]
  },
  {
   "cell_type": "code",
   "execution_count": 7,
   "id": "1681f277-9f69-4059-af0b-ae272610d032",
   "metadata": {},
   "outputs": [
    {
     "name": "stdout",
     "output_type": "stream",
     "text": [
      "['Choice1:Apriori Algorithm with a minimum support of 0.5 and a minimum confidence of 0.7', 'Choice2:Frequent Itemset Mining with a minimum support of 0.3 and a minimum confidence of 0.8', 'Choice3:Eclat Algorithm with a minimum support of 0.4 and a minimum confidence of 0.6', 'Choice4:MineSet Algorithm with a minimum support of 0.2 and a minimum confidence of 0.9']\n",
      "\n",
      "Answer:Choice1\n"
     ]
    }
   ],
   "source": [
    "choice_list = [f\"{key}:{value}\" for key, value in test_case[0].items() if 'choice' in key.lower()]\n",
    "query = f\"Answer:{test_case[0]['Answer']}\"\n",
    "\n",
    "print(choice_list)\n",
    "print()\n",
    "print(query)"
   ]
  },
  {
   "cell_type": "code",
   "execution_count": 8,
   "id": "4cc22fff-70b2-465c-982b-3aa145dff988",
   "metadata": {},
   "outputs": [
    {
     "data": {
      "text/plain": [
       "'Choice4:MineSet Algorithm with a minimum support of 0.2 and a minimum confidence of 0.9'"
      ]
     },
     "execution_count": 8,
     "metadata": {},
     "output_type": "execute_result"
    }
   ],
   "source": [
    "choice_list[3]"
   ]
  },
  {
   "cell_type": "code",
   "execution_count": 9,
   "id": "4031e16c-dd4b-4275-93d1-7751162c70e5",
   "metadata": {},
   "outputs": [],
   "source": [
    "model_kwargs = {'device': 'cpu'}\n",
    "db = Chroma.from_texts(choice_list, HuggingFaceBgeEmbeddings(model_kwargs=model_kwargs))"
   ]
  },
  {
   "cell_type": "code",
   "execution_count": 10,
   "id": "db1aafc7-6f9b-4b63-8909-fd46078cd909",
   "metadata": {},
   "outputs": [],
   "source": [
    "#! pip install chromadb"
   ]
  },
  {
   "cell_type": "code",
   "execution_count": 11,
   "id": "69b7b243-e69c-493c-bc20-ad0eb31f79de",
   "metadata": {},
   "outputs": [
    {
     "data": {
      "text/plain": [
       "'Choice1'"
      ]
     },
     "execution_count": 11,
     "metadata": {},
     "output_type": "execute_result"
    }
   ],
   "source": [
    "db.similarity_search(query)[0].page_content.split(':')[0]"
   ]
  },
  {
   "cell_type": "code",
   "execution_count": null,
   "id": "4fc00d9e-82cb-480a-baaf-7f4fd56c11ce",
   "metadata": {},
   "outputs": [],
   "source": []
  }
 ],
 "metadata": {
  "kernelspec": {
   "display_name": "Python [conda env:miniconda3-OpenShape]",
   "language": "python",
   "name": "conda-env-miniconda3-OpenShape-py"
  },
  "language_info": {
   "codemirror_mode": {
    "name": "ipython",
    "version": 3
   },
   "file_extension": ".py",
   "mimetype": "text/x-python",
   "name": "python",
   "nbconvert_exporter": "python",
   "pygments_lexer": "ipython3",
   "version": "3.9.18"
  }
 },
 "nbformat": 4,
 "nbformat_minor": 5
}
